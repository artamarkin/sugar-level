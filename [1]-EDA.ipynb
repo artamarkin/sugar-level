{
 "cells": [
  {
   "cell_type": "code",
   "execution_count": 33,
   "id": "processed-feelings",
   "metadata": {},
   "outputs": [
    {
     "data": {
      "application/javascript": [
       "\n",
       "            setTimeout(function() {\n",
       "                var nbb_cell_id = 33;\n",
       "                var nbb_unformatted_code = \"%load_ext autoreload\\n%autoreload 2\\n%load_ext lab_black\";\n",
       "                var nbb_formatted_code = \"%load_ext autoreload\\n%autoreload 2\\n%load_ext lab_black\";\n",
       "                var nbb_cells = Jupyter.notebook.get_cells();\n",
       "                for (var i = 0; i < nbb_cells.length; ++i) {\n",
       "                    if (nbb_cells[i].input_prompt_number == nbb_cell_id) {\n",
       "                        if (nbb_cells[i].get_text() == nbb_unformatted_code) {\n",
       "                             nbb_cells[i].set_text(nbb_formatted_code);\n",
       "                        }\n",
       "                        break;\n",
       "                    }\n",
       "                }\n",
       "            }, 500);\n",
       "            "
      ],
      "text/plain": [
       "<IPython.core.display.Javascript object>"
      ]
     },
     "metadata": {},
     "output_type": "display_data"
    }
   ],
   "source": [
    "%load_ext autoreload\n",
    "%autoreload 2\n",
    "%load_ext lab_black"
   ]
  },
  {
   "cell_type": "code",
   "execution_count": 41,
   "id": "conditional-butterfly",
   "metadata": {},
   "outputs": [
    {
     "data": {
      "application/javascript": [
       "\n",
       "            setTimeout(function() {\n",
       "                var nbb_cell_id = 41;\n",
       "                var nbb_unformatted_code = \"import pandas as pd\\nimport numpy as np\";\n",
       "                var nbb_formatted_code = \"import pandas as pd\\nimport numpy as np\";\n",
       "                var nbb_cells = Jupyter.notebook.get_cells();\n",
       "                for (var i = 0; i < nbb_cells.length; ++i) {\n",
       "                    if (nbb_cells[i].input_prompt_number == nbb_cell_id) {\n",
       "                        if (nbb_cells[i].get_text() == nbb_unformatted_code) {\n",
       "                             nbb_cells[i].set_text(nbb_formatted_code);\n",
       "                        }\n",
       "                        break;\n",
       "                    }\n",
       "                }\n",
       "            }, 500);\n",
       "            "
      ],
      "text/plain": [
       "<IPython.core.display.Javascript object>"
      ]
     },
     "metadata": {},
     "output_type": "display_data"
    }
   ],
   "source": [
    "import pandas as pd\n",
    "import numpy as np"
   ]
  },
  {
   "cell_type": "markdown",
   "id": "ultimate-tonight",
   "metadata": {},
   "source": [
    "# Inro \n",
    "The purpose of the notebook to have a first look into the data "
   ]
  },
  {
   "cell_type": "markdown",
   "id": "rental-recall",
   "metadata": {},
   "source": [
    "# Read data"
   ]
  },
  {
   "cell_type": "code",
   "execution_count": 62,
   "id": "timely-halloween",
   "metadata": {},
   "outputs": [
    {
     "data": {
      "text/plain": [
       "(2265, 19)"
      ]
     },
     "metadata": {},
     "output_type": "display_data"
    },
    {
     "data": {
      "text/plain": [
       "(2218, 3)"
      ]
     },
     "metadata": {},
     "output_type": "display_data"
    },
    {
     "data": {
      "application/javascript": [
       "\n",
       "            setTimeout(function() {\n",
       "                var nbb_cell_id = 62;\n",
       "                var nbb_unformatted_code = \"data = pd.read_csv(\\\"data/raw.csv\\\", skiprows=1)\\ndisplay(data.shape)\\n\\ndata = (\\n    data.rename(columns={\\\"Notes\\\": \\\"notes\\\"})\\n    .assign(\\n        # get glucose level from manual and automatic scans\\n        glucose_level=lambda d: np.where(\\n            d[\\\"Historic Glucose mmol/L\\\"].isnull(),\\n            d[\\\"Scan Glucose mmol/L\\\"],\\n            d[\\\"Historic Glucose mmol/L\\\"],\\n        ),\\n        datetime=lambda d: pd.to_datetime(\\n            d[\\\"Device Timestamp\\\"], format=\\\"%d-%m-%Y %H:%M\\\"\\n        ),\\n    )\\n    .loc[\\n        lambda d: (d[\\\"glucose_level\\\"].notnull()) | (d[\\\"notes\\\"].notnull()),\\n        [\\n            \\\"datetime\\\",\\n            \\\"glucose_level\\\",\\n            \\\"notes\\\",\\n        ],\\n    ]\\n    .sort_values(by=\\\"datetime\\\")\\n    .reset_index(drop=True)\\n)\\ndisplay(data.shape)\";\n",
       "                var nbb_formatted_code = \"data = pd.read_csv(\\\"data/raw.csv\\\", skiprows=1)\\ndisplay(data.shape)\\n\\ndata = (\\n    data.rename(columns={\\\"Notes\\\": \\\"notes\\\"})\\n    .assign(\\n        # get glucose level from manual and automatic scans\\n        glucose_level=lambda d: np.where(\\n            d[\\\"Historic Glucose mmol/L\\\"].isnull(),\\n            d[\\\"Scan Glucose mmol/L\\\"],\\n            d[\\\"Historic Glucose mmol/L\\\"],\\n        ),\\n        datetime=lambda d: pd.to_datetime(\\n            d[\\\"Device Timestamp\\\"], format=\\\"%d-%m-%Y %H:%M\\\"\\n        ),\\n    )\\n    .loc[\\n        lambda d: (d[\\\"glucose_level\\\"].notnull()) | (d[\\\"notes\\\"].notnull()),\\n        [\\n            \\\"datetime\\\",\\n            \\\"glucose_level\\\",\\n            \\\"notes\\\",\\n        ],\\n    ]\\n    .sort_values(by=\\\"datetime\\\")\\n    .reset_index(drop=True)\\n)\\ndisplay(data.shape)\";\n",
       "                var nbb_cells = Jupyter.notebook.get_cells();\n",
       "                for (var i = 0; i < nbb_cells.length; ++i) {\n",
       "                    if (nbb_cells[i].input_prompt_number == nbb_cell_id) {\n",
       "                        if (nbb_cells[i].get_text() == nbb_unformatted_code) {\n",
       "                             nbb_cells[i].set_text(nbb_formatted_code);\n",
       "                        }\n",
       "                        break;\n",
       "                    }\n",
       "                }\n",
       "            }, 500);\n",
       "            "
      ],
      "text/plain": [
       "<IPython.core.display.Javascript object>"
      ]
     },
     "metadata": {},
     "output_type": "display_data"
    }
   ],
   "source": [
    "data = pd.read_csv(\"data/raw.csv\", skiprows=1)\n",
    "display(data.shape)\n",
    "\n",
    "data = (\n",
    "    data.rename(columns={\"Notes\": \"notes\"})\n",
    "    .assign(\n",
    "        # get glucose level from manual and automatic scans\n",
    "        glucose_level=lambda d: np.where(\n",
    "            d[\"Historic Glucose mmol/L\"].isnull(),\n",
    "            d[\"Scan Glucose mmol/L\"],\n",
    "            d[\"Historic Glucose mmol/L\"],\n",
    "        ),\n",
    "        datetime=lambda d: pd.to_datetime(\n",
    "            d[\"Device Timestamp\"], format=\"%d-%m-%Y %H:%M\"\n",
    "        ),\n",
    "    )\n",
    "    .loc[\n",
    "        lambda d: (d[\"glucose_level\"].notnull()) | (d[\"notes\"].notnull()),\n",
    "        [\n",
    "            \"datetime\",\n",
    "            \"glucose_level\",\n",
    "            \"notes\",\n",
    "        ],\n",
    "    ]\n",
    "    .sort_values(by=\"datetime\")\n",
    "    .reset_index(drop=True)\n",
    ")\n",
    "display(data.shape)"
   ]
  },
  {
   "cell_type": "code",
   "execution_count": 63,
   "id": "exclusive-present",
   "metadata": {},
   "outputs": [
    {
     "name": "stdout",
     "output_type": "stream",
     "text": [
      "Start Date: 2021-01-29 08:45:00\n",
      "End Date: 2021-02-12 08:37:00\n",
      "# Notes: 187\n"
     ]
    },
    {
     "data": {
      "application/javascript": [
       "\n",
       "            setTimeout(function() {\n",
       "                var nbb_cell_id = 63;\n",
       "                var nbb_unformatted_code = \"print(f\\\"Start Date: {data['datetime'].min()}\\\")\\nprint(f\\\"End Date: {data['datetime'].max()}\\\")\\nprint(f\\\"# Notes: {data.loc[lambda d: d['notes'].notnull()].shape[0]}\\\")\";\n",
       "                var nbb_formatted_code = \"print(f\\\"Start Date: {data['datetime'].min()}\\\")\\nprint(f\\\"End Date: {data['datetime'].max()}\\\")\\nprint(f\\\"# Notes: {data.loc[lambda d: d['notes'].notnull()].shape[0]}\\\")\";\n",
       "                var nbb_cells = Jupyter.notebook.get_cells();\n",
       "                for (var i = 0; i < nbb_cells.length; ++i) {\n",
       "                    if (nbb_cells[i].input_prompt_number == nbb_cell_id) {\n",
       "                        if (nbb_cells[i].get_text() == nbb_unformatted_code) {\n",
       "                             nbb_cells[i].set_text(nbb_formatted_code);\n",
       "                        }\n",
       "                        break;\n",
       "                    }\n",
       "                }\n",
       "            }, 500);\n",
       "            "
      ],
      "text/plain": [
       "<IPython.core.display.Javascript object>"
      ]
     },
     "metadata": {},
     "output_type": "display_data"
    }
   ],
   "source": [
    "print(f\"Start Date: {data['datetime'].min()}\")\n",
    "print(f\"End Date: {data['datetime'].max()}\")\n",
    "print(f\"# Notes: {data.loc[lambda d: d['notes'].notnull()].shape[0]}\")"
   ]
  },
  {
   "cell_type": "code",
   "execution_count": 67,
   "id": "controlled-writing",
   "metadata": {},
   "outputs": [
    {
     "data": {
      "text/html": [
       "<div>\n",
       "<style scoped>\n",
       "    .dataframe tbody tr th:only-of-type {\n",
       "        vertical-align: middle;\n",
       "    }\n",
       "\n",
       "    .dataframe tbody tr th {\n",
       "        vertical-align: top;\n",
       "    }\n",
       "\n",
       "    .dataframe thead th {\n",
       "        text-align: right;\n",
       "    }\n",
       "</style>\n",
       "<table border=\"1\" class=\"dataframe\">\n",
       "  <thead>\n",
       "    <tr style=\"text-align: right;\">\n",
       "      <th></th>\n",
       "      <th>datetime</th>\n",
       "      <th>glucose_level</th>\n",
       "      <th>notes</th>\n",
       "    </tr>\n",
       "  </thead>\n",
       "  <tbody>\n",
       "    <tr>\n",
       "      <th>0</th>\n",
       "      <td>2021-01-29 08:45:00</td>\n",
       "      <td>NaN</td>\n",
       "      <td>Oatmeal; sweet dried berries</td>\n",
       "    </tr>\n",
       "    <tr>\n",
       "      <th>1</th>\n",
       "      <td>2021-01-29 09:00:00</td>\n",
       "      <td>NaN</td>\n",
       "      <td>Coffee</td>\n",
       "    </tr>\n",
       "    <tr>\n",
       "      <th>2</th>\n",
       "      <td>2021-01-29 09:43:00</td>\n",
       "      <td>8.7</td>\n",
       "      <td>NaN</td>\n",
       "    </tr>\n",
       "    <tr>\n",
       "      <th>3</th>\n",
       "      <td>2021-01-29 09:58:00</td>\n",
       "      <td>7.7</td>\n",
       "      <td>NaN</td>\n",
       "    </tr>\n",
       "    <tr>\n",
       "      <th>4</th>\n",
       "      <td>2021-01-29 10:08:00</td>\n",
       "      <td>6.0</td>\n",
       "      <td>NaN</td>\n",
       "    </tr>\n",
       "    <tr>\n",
       "      <th>...</th>\n",
       "      <td>...</td>\n",
       "      <td>...</td>\n",
       "      <td>...</td>\n",
       "    </tr>\n",
       "    <tr>\n",
       "      <th>2213</th>\n",
       "      <td>2021-02-12 07:39:00</td>\n",
       "      <td>4.7</td>\n",
       "      <td>NaN</td>\n",
       "    </tr>\n",
       "    <tr>\n",
       "      <th>2214</th>\n",
       "      <td>2021-02-12 07:54:00</td>\n",
       "      <td>5.0</td>\n",
       "      <td>NaN</td>\n",
       "    </tr>\n",
       "    <tr>\n",
       "      <th>2215</th>\n",
       "      <td>2021-02-12 08:09:00</td>\n",
       "      <td>5.6</td>\n",
       "      <td>NaN</td>\n",
       "    </tr>\n",
       "    <tr>\n",
       "      <th>2216</th>\n",
       "      <td>2021-02-12 08:09:00</td>\n",
       "      <td>5.4</td>\n",
       "      <td>NaN</td>\n",
       "    </tr>\n",
       "    <tr>\n",
       "      <th>2217</th>\n",
       "      <td>2021-02-12 08:37:00</td>\n",
       "      <td>6.6</td>\n",
       "      <td>NaN</td>\n",
       "    </tr>\n",
       "  </tbody>\n",
       "</table>\n",
       "<p>2218 rows × 3 columns</p>\n",
       "</div>"
      ],
      "text/plain": [
       "                datetime  glucose_level                         notes\n",
       "0    2021-01-29 08:45:00            NaN  Oatmeal; sweet dried berries\n",
       "1    2021-01-29 09:00:00            NaN                        Coffee\n",
       "2    2021-01-29 09:43:00            8.7                           NaN\n",
       "3    2021-01-29 09:58:00            7.7                           NaN\n",
       "4    2021-01-29 10:08:00            6.0                           NaN\n",
       "...                  ...            ...                           ...\n",
       "2213 2021-02-12 07:39:00            4.7                           NaN\n",
       "2214 2021-02-12 07:54:00            5.0                           NaN\n",
       "2215 2021-02-12 08:09:00            5.6                           NaN\n",
       "2216 2021-02-12 08:09:00            5.4                           NaN\n",
       "2217 2021-02-12 08:37:00            6.6                           NaN\n",
       "\n",
       "[2218 rows x 3 columns]"
      ]
     },
     "execution_count": 67,
     "metadata": {},
     "output_type": "execute_result"
    },
    {
     "data": {
      "application/javascript": [
       "\n",
       "            setTimeout(function() {\n",
       "                var nbb_cell_id = 67;\n",
       "                var nbb_unformatted_code = \"data\";\n",
       "                var nbb_formatted_code = \"data\";\n",
       "                var nbb_cells = Jupyter.notebook.get_cells();\n",
       "                for (var i = 0; i < nbb_cells.length; ++i) {\n",
       "                    if (nbb_cells[i].input_prompt_number == nbb_cell_id) {\n",
       "                        if (nbb_cells[i].get_text() == nbb_unformatted_code) {\n",
       "                             nbb_cells[i].set_text(nbb_formatted_code);\n",
       "                        }\n",
       "                        break;\n",
       "                    }\n",
       "                }\n",
       "            }, 500);\n",
       "            "
      ],
      "text/plain": [
       "<IPython.core.display.Javascript object>"
      ]
     },
     "metadata": {},
     "output_type": "display_data"
    }
   ],
   "source": [
    "data"
   ]
  },
  {
   "cell_type": "markdown",
   "id": "aerial-success",
   "metadata": {},
   "source": [
    "# Show Raw Measurements in time"
   ]
  },
  {
   "cell_type": "code",
   "execution_count": 65,
   "id": "spread-organizer",
   "metadata": {},
   "outputs": [
    {
     "data": {
      "text/html": [
       "<div>\n",
       "<style scoped>\n",
       "    .dataframe tbody tr th:only-of-type {\n",
       "        vertical-align: middle;\n",
       "    }\n",
       "\n",
       "    .dataframe tbody tr th {\n",
       "        vertical-align: top;\n",
       "    }\n",
       "\n",
       "    .dataframe thead th {\n",
       "        text-align: right;\n",
       "    }\n",
       "</style>\n",
       "<table border=\"1\" class=\"dataframe\">\n",
       "  <thead>\n",
       "    <tr style=\"text-align: right;\">\n",
       "      <th></th>\n",
       "      <th>datetime</th>\n",
       "      <th>glucose_level</th>\n",
       "      <th>notes</th>\n",
       "    </tr>\n",
       "  </thead>\n",
       "  <tbody>\n",
       "    <tr>\n",
       "      <th>0</th>\n",
       "      <td>2021-01-29 08:45:00</td>\n",
       "      <td>NaN</td>\n",
       "      <td>Oatmeal; sweet dried berries</td>\n",
       "    </tr>\n",
       "    <tr>\n",
       "      <th>1</th>\n",
       "      <td>2021-01-29 09:00:00</td>\n",
       "      <td>NaN</td>\n",
       "      <td>Coffee</td>\n",
       "    </tr>\n",
       "    <tr>\n",
       "      <th>2</th>\n",
       "      <td>2021-01-29 09:43:00</td>\n",
       "      <td>8.7</td>\n",
       "      <td>NaN</td>\n",
       "    </tr>\n",
       "    <tr>\n",
       "      <th>3</th>\n",
       "      <td>2021-01-29 09:58:00</td>\n",
       "      <td>7.7</td>\n",
       "      <td>NaN</td>\n",
       "    </tr>\n",
       "    <tr>\n",
       "      <th>4</th>\n",
       "      <td>2021-01-29 10:08:00</td>\n",
       "      <td>6.0</td>\n",
       "      <td>NaN</td>\n",
       "    </tr>\n",
       "    <tr>\n",
       "      <th>...</th>\n",
       "      <td>...</td>\n",
       "      <td>...</td>\n",
       "      <td>...</td>\n",
       "    </tr>\n",
       "    <tr>\n",
       "      <th>2213</th>\n",
       "      <td>2021-02-12 07:39:00</td>\n",
       "      <td>4.7</td>\n",
       "      <td>NaN</td>\n",
       "    </tr>\n",
       "    <tr>\n",
       "      <th>2214</th>\n",
       "      <td>2021-02-12 07:54:00</td>\n",
       "      <td>5.0</td>\n",
       "      <td>NaN</td>\n",
       "    </tr>\n",
       "    <tr>\n",
       "      <th>2215</th>\n",
       "      <td>2021-02-12 08:09:00</td>\n",
       "      <td>5.6</td>\n",
       "      <td>NaN</td>\n",
       "    </tr>\n",
       "    <tr>\n",
       "      <th>2216</th>\n",
       "      <td>2021-02-12 08:09:00</td>\n",
       "      <td>5.4</td>\n",
       "      <td>NaN</td>\n",
       "    </tr>\n",
       "    <tr>\n",
       "      <th>2217</th>\n",
       "      <td>2021-02-12 08:37:00</td>\n",
       "      <td>6.6</td>\n",
       "      <td>NaN</td>\n",
       "    </tr>\n",
       "  </tbody>\n",
       "</table>\n",
       "<p>2218 rows × 3 columns</p>\n",
       "</div>"
      ],
      "text/plain": [
       "                datetime  glucose_level                         notes\n",
       "0    2021-01-29 08:45:00            NaN  Oatmeal; sweet dried berries\n",
       "1    2021-01-29 09:00:00            NaN                        Coffee\n",
       "2    2021-01-29 09:43:00            8.7                           NaN\n",
       "3    2021-01-29 09:58:00            7.7                           NaN\n",
       "4    2021-01-29 10:08:00            6.0                           NaN\n",
       "...                  ...            ...                           ...\n",
       "2213 2021-02-12 07:39:00            4.7                           NaN\n",
       "2214 2021-02-12 07:54:00            5.0                           NaN\n",
       "2215 2021-02-12 08:09:00            5.6                           NaN\n",
       "2216 2021-02-12 08:09:00            5.4                           NaN\n",
       "2217 2021-02-12 08:37:00            6.6                           NaN\n",
       "\n",
       "[2218 rows x 3 columns]"
      ]
     },
     "execution_count": 65,
     "metadata": {},
     "output_type": "execute_result"
    },
    {
     "data": {
      "application/javascript": [
       "\n",
       "            setTimeout(function() {\n",
       "                var nbb_cell_id = 65;\n",
       "                var nbb_unformatted_code = \"data\";\n",
       "                var nbb_formatted_code = \"data\";\n",
       "                var nbb_cells = Jupyter.notebook.get_cells();\n",
       "                for (var i = 0; i < nbb_cells.length; ++i) {\n",
       "                    if (nbb_cells[i].input_prompt_number == nbb_cell_id) {\n",
       "                        if (nbb_cells[i].get_text() == nbb_unformatted_code) {\n",
       "                             nbb_cells[i].set_text(nbb_formatted_code);\n",
       "                        }\n",
       "                        break;\n",
       "                    }\n",
       "                }\n",
       "            }, 500);\n",
       "            "
      ],
      "text/plain": [
       "<IPython.core.display.Javascript object>"
      ]
     },
     "metadata": {},
     "output_type": "display_data"
    }
   ],
   "source": [
    "data"
   ]
  }
 ],
 "metadata": {
  "kernelspec": {
   "display_name": "Python 3",
   "language": "python",
   "name": "python3"
  },
  "language_info": {
   "codemirror_mode": {
    "name": "ipython",
    "version": 3
   },
   "file_extension": ".py",
   "mimetype": "text/x-python",
   "name": "python",
   "nbconvert_exporter": "python",
   "pygments_lexer": "ipython3",
   "version": "3.7.5"
  }
 },
 "nbformat": 4,
 "nbformat_minor": 5
}
